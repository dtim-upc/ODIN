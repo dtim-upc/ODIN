{
 "cells": [
  {
   "cell_type": "code",
   "execution_count": 15,
   "metadata": {
    "collapsed": true,
    "ExecuteTime": {
     "end_time": "2023-08-10T21:44:59.955235100Z",
     "start_time": "2023-08-10T21:44:59.869238300Z"
    }
   },
   "outputs": [],
   "source": [
    "from rdflib.collection import Collection\n",
    "\n",
    "from common import *"
   ]
  },
  {
   "cell_type": "markdown",
   "source": [
    "## Helper Functions"
   ],
   "metadata": {
    "collapsed": false
   }
  },
  {
   "cell_type": "code",
   "execution_count": 16,
   "outputs": [],
   "source": [
    "def add_class(graph, nodes):\n",
    "    l = nodes if isinstance(nodes, list) else [nodes]\n",
    "    for node in l:\n",
    "        graph.add((node, RDF.type, OWL.Class))"
   ],
   "metadata": {
    "collapsed": false,
    "ExecuteTime": {
     "end_time": "2023-08-10T21:44:59.987235600Z",
     "start_time": "2023-08-10T21:44:59.888237100Z"
    }
   }
  },
  {
   "cell_type": "code",
   "execution_count": 17,
   "outputs": [],
   "source": [
    "def add_union(graph, nodes):\n",
    "    sequence = Collection(graph, BNode(), nodes)\n",
    "    union = BNode()\n",
    "    graph.add((union, OWL.unionOf, sequence.uri))\n",
    "    return union"
   ],
   "metadata": {
    "collapsed": false,
    "ExecuteTime": {
     "end_time": "2023-08-10T21:45:00.003237400Z",
     "start_time": "2023-08-10T21:44:59.904239200Z"
    }
   }
  },
  {
   "cell_type": "code",
   "execution_count": 18,
   "outputs": [],
   "source": [
    "def add_object_property(graph, property, domain, range):\n",
    "    graph.add((property, RDF.type, OWL.ObjectProperty))\n",
    "    if domain:\n",
    "        graph.add((property, RDFS.domain, add_union(graph, domain) if isinstance(domain, list) else domain))\n",
    "    if range:\n",
    "        graph.add((property, RDFS.range, add_union(graph, range) if isinstance(range, list) else range))\n",
    "\n",
    "\n",
    "def add_datatype_property(graph, property, domain, range):\n",
    "    if isinstance(range, list):\n",
    "        for r in range:\n",
    "            assert r in XSD\n",
    "    else:\n",
    "        assert range in XSD\n",
    "    graph.add((property, RDF.type, OWL.DatatypeProperty))\n",
    "    if domain:\n",
    "        graph.add((property, RDFS.domain, add_union(graph, domain) if isinstance(domain, list) else domain))\n",
    "    if range:\n",
    "        graph.add((property, RDFS.range, add_union(graph, range) if isinstance(range, list) else range))\n",
    "\n",
    "\n",
    "def add_property(graph, property, domain, range):\n",
    "    graph.add((property, RDF.type, RDF.Property))\n",
    "    if domain:\n",
    "        graph.add((property, RDFS.domain, add_union(graph, domain) if isinstance(domain, list) else domain))\n",
    "    if range:\n",
    "        graph.add((property, RDFS.range, add_union(graph, range) if isinstance(range, list) else range))"
   ],
   "metadata": {
    "collapsed": false,
    "ExecuteTime": {
     "end_time": "2023-08-10T21:45:00.004237300Z",
     "start_time": "2023-08-10T21:44:59.923236300Z"
    }
   }
  },
  {
   "cell_type": "markdown",
   "source": [
    "# Ontology Building"
   ],
   "metadata": {
    "collapsed": false
   }
  },
  {
   "cell_type": "code",
   "execution_count": 19,
   "outputs": [],
   "source": [
    "ontology = get_graph_xp()"
   ],
   "metadata": {
    "collapsed": false,
    "ExecuteTime": {
     "end_time": "2023-08-10T21:45:00.004237300Z",
     "start_time": "2023-08-10T21:44:59.936234600Z"
    }
   }
  },
  {
   "cell_type": "code",
   "execution_count": 20,
   "outputs": [
    {
     "data": {
      "text/plain": "<Graph identifier=Nd88e1c5c4d054ab78fe645a25c9bc324 (<class 'rdflib.graph.Graph'>)>"
     },
     "execution_count": 20,
     "metadata": {},
     "output_type": "execute_result"
    }
   ],
   "source": [
    "ontology.add((URIRef(str(tb)), RDF.type, OWL.Ontology))\n",
    "ontology.add((URIRef(str(tb)), RDFS.label, Literal(\"ExtremeXP Ontology TBox\")))"
   ],
   "metadata": {
    "collapsed": false,
    "ExecuteTime": {
     "end_time": "2023-08-10T21:45:00.005236100Z",
     "start_time": "2023-08-10T21:44:59.953238300Z"
    }
   }
  },
  {
   "cell_type": "markdown",
   "source": [
    "## Classes"
   ],
   "metadata": {
    "collapsed": false
   }
  },
  {
   "cell_type": "code",
   "execution_count": 21,
   "outputs": [],
   "source": [
    "classes = [\n",
    "    tb.Data,\n",
    "    tb.Intent,\n",
    "    tb.Problem,\n",
    "    tb.Algorithm,\n",
    "    tb.Workflow,\n",
    "    tb.DataTag,\n",
    "    tb.Step,\n",
    "    tb.Component,\n",
    "    tb.LearnerComponent,\n",
    "    tb.ApplierComponent,\n",
    "    tb.Implementation,\n",
    "    tb.LearnerImplementation,\n",
    "    tb.ApplierImplementation,\n",
    "    tb.Parameter,\n",
    "    tb.ParameterValue,\n",
    "    tb.Transformation,\n",
    "    tb.CopyTransformation,\n",
    "    tb.LoaderTransformation,\n",
    "    tb.IOSpec,\n",
    "    tb.IO,\n",
    "]\n",
    "add_class(ontology, classes)"
   ],
   "metadata": {
    "collapsed": false,
    "ExecuteTime": {
     "end_time": "2023-08-10T21:45:00.005236100Z",
     "start_time": "2023-08-10T21:44:59.969235600Z"
    }
   }
  },
  {
   "cell_type": "code",
   "execution_count": 22,
   "outputs": [
    {
     "data": {
      "text/plain": "<Graph identifier=Nd88e1c5c4d054ab78fe645a25c9bc324 (<class 'rdflib.graph.Graph'>)>"
     },
     "execution_count": 22,
     "metadata": {},
     "output_type": "execute_result"
    }
   ],
   "source": [
    "ontology.add((tb.CopyTransformation, RDFS.subClassOf, tb.Transformation))\n",
    "ontology.add((tb.LoaderTransformation, RDFS.subClassOf, tb.Transformation))\n",
    "\n",
    "ontology.add((tb.LearnerImplementation, RDFS.subClassOf, tb.Implementation))\n",
    "ontology.add((tb.ApplierImplementation, RDFS.subClassOf, tb.Implementation))\n",
    "ontology.add((tb.LearnerImplementation, OWL.disjointWith, tb.ApplierImplementation))\n",
    "\n",
    "ontology.add((tb.LearnerComponent, RDFS.subClassOf, tb.Component))\n",
    "ontology.add((tb.ApplierComponent, RDFS.subClassOf, tb.Component))\n",
    "ontology.add((tb.LearnerComponent, OWL.disjointWith, tb.ApplierComponent))"
   ],
   "metadata": {
    "collapsed": false,
    "ExecuteTime": {
     "end_time": "2023-08-10T21:45:00.006236200Z",
     "start_time": "2023-08-10T21:44:59.986235200Z"
    }
   }
  },
  {
   "cell_type": "markdown",
   "source": [
    "## Object Properties"
   ],
   "metadata": {
    "collapsed": false
   }
  },
  {
   "cell_type": "code",
   "execution_count": 23,
   "outputs": [],
   "source": [
    "properties = [\n",
    "    # Intent\n",
    "    (tb.overData, tb.Intent, tb.Data),\n",
    "    (tb.tackles, tb.Intent, [tb.Problem, tb.Algorithm]),\n",
    "    (tb.usingParameter, tb.Intent, [tb.Parameter, tb.ParameterValue]),\n",
    "    (tb.createdFor, tb.Workflow, tb.Intent),\n",
    "    # Problem\n",
    "    (tb.subProblemOf, tb.Problem, tb.Problem),\n",
    "    (tb.solves, [tb.Algorithm, tb.Workflow], tb.Problem),\n",
    "    # Workflow\n",
    "    (tb.applies, tb.Workflow, tb.Algorithm),\n",
    "    (tb.hasStep, tb.Workflow, tb.Step),\n",
    "    # Workflow / Implementation\n",
    "    (tb.hasParameter, [tb.Workflow, tb.Implementation], tb.Parameter),\n",
    "    (tb.specifiesInput, [tb.Workflow, tb.Implementation], tb.IOSpec),\n",
    "    (tb.specifiesOutput, [tb.Workflow, tb.Implementation], tb.IOSpec),\n",
    "    # Implementation\n",
    "    (tb.hasParameter, tb.Implementation, tb.Parameter),\n",
    "    (tb.hasLearner, tb.ApplierImplementation, tb.LearnerImplementation),\n",
    "    (tb.hasApplier, tb.LearnerImplementation, tb.ApplierImplementation),\n",
    "    # Component\n",
    "    (tb.hasTransformation, tb.Component, RDF.List),\n",
    "    (tb.hasImplementation, tb.Component, tb.Implementation),\n",
    "    (tb.overridesParameter, tb.Component, tb.ParameterValue),\n",
    "    (tb.exposesParameter, tb.Component, tb.Parameter),\n",
    "    (tb.hasLearner, tb.ApplierComponent, tb.LearnerComponent),\n",
    "    (tb.hasApplier, tb.LearnerComponent, tb.ApplierComponent),\n",
    "    # Step\n",
    "    (tb.followedBy, tb.Step, tb.Step),\n",
    "    (tb.runs, tb.Step, [tb.Workflow, tb.Implementation]),\n",
    "    (tb.hasParameterValue, tb.Step, tb.ParameterValue),\n",
    "    (tb.hasInput, tb.Step, tb.IO),\n",
    "    (tb.hasOutput, tb.Step, tb.IO),\n",
    "    # Parameter\n",
    "    (tb.forParameter, tb.ParameterValue, tb.Parameter),\n",
    "    (tb.hasDatatype, tb.Parameter, None),\n",
    "    (tb.hasDefaultValue, tb.Parameter, None),\n",
    "    # Data\n",
    "    # (tb.conformsTo, tb.Data, tb.DataTag),\n",
    "    # IOSpec\n",
    "    (tb.hasTag, tb.IOSpec, tb.DataTag),\n",
    "    # IO\n",
    "    (tb.hasData, tb.IOSpec, tb.Data),\n",
    "]\n",
    "for s, p, o in properties:\n",
    "    add_object_property(ontology, s, p, o)"
   ],
   "metadata": {
    "collapsed": false,
    "ExecuteTime": {
     "end_time": "2023-08-10T21:45:00.075234200Z",
     "start_time": "2023-08-10T21:45:00.005236100Z"
    }
   }
  },
  {
   "cell_type": "code",
   "execution_count": 24,
   "outputs": [
    {
     "data": {
      "text/plain": "<Graph identifier=Nd88e1c5c4d054ab78fe645a25c9bc324 (<class 'rdflib.graph.Graph'>)>"
     },
     "execution_count": 24,
     "metadata": {},
     "output_type": "execute_result"
    }
   ],
   "source": [
    "ontology.add((tb.subProblemOf, RDF.type, OWL.TransitiveProperty))"
   ],
   "metadata": {
    "collapsed": false,
    "ExecuteTime": {
     "end_time": "2023-08-10T21:45:00.085235100Z",
     "start_time": "2023-08-10T21:45:00.016236500Z"
    }
   }
  },
  {
   "cell_type": "markdown",
   "source": [
    "## Datatype Properties"
   ],
   "metadata": {
    "collapsed": false
   }
  },
  {
   "cell_type": "code",
   "execution_count": 25,
   "outputs": [],
   "source": [
    "dproperties = [\n",
    "    # Transformation\n",
    "    (tb.copy_input, tb.CopyTransformation, XSD.integer),\n",
    "    (tb.copy_output, tb.CopyTransformation, XSD.integer),\n",
    "    (tb.transformation_language, tb.Transformation, XSD.string),\n",
    "    (tb.transformation_query, tb.Transformation, XSD.string),\n",
    "    # IO\n",
    "    (tb.has_position, [tb.IO, tb.IOSpec, tb.Step, tb.Parameter], XSD.integer),\n",
    "]\n",
    "\n",
    "for s, p, o in dproperties:\n",
    "    add_datatype_property(ontology, s, p, o)"
   ],
   "metadata": {
    "collapsed": false,
    "ExecuteTime": {
     "end_time": "2023-08-10T21:45:00.085235100Z",
     "start_time": "2023-08-10T21:45:00.031236500Z"
    }
   }
  },
  {
   "cell_type": "markdown",
   "source": [
    "## Open Properties (no Range or Domain)"
   ],
   "metadata": {
    "collapsed": false
   }
  },
  {
   "cell_type": "code",
   "execution_count": 26,
   "outputs": [],
   "source": [
    "oproperties = [\n",
    "    (tb.has_value, tb.ParameterValue, None),\n",
    "]\n",
    "\n",
    "for s, p, o in oproperties:\n",
    "    add_property(ontology, s, p, o)"
   ],
   "metadata": {
    "collapsed": false,
    "ExecuteTime": {
     "end_time": "2023-08-10T21:45:00.086235400Z",
     "start_time": "2023-08-10T21:45:00.046235500Z"
    }
   }
  },
  {
   "cell_type": "markdown",
   "source": [
    "## Data Properties\n",
    "These properties are used temporarily to store information that belongs to the ontology used for data representation"
   ],
   "metadata": {
    "collapsed": false
   }
  },
  {
   "cell_type": "code",
   "execution_count": 27,
   "outputs": [],
   "source": [
    "properties = [\n",
    "    # Column\n",
    "    (dmop.hasColumnName, dmop.ColumnInfoProperty),\n",
    "    (dmop.hasDataPrimitiveTypeColumn, dmop.ColumnInfoProperty),\n",
    "    (dmop.hasPosition, dmop.ColumnInfoProperty),\n",
    "    (dmop.isCategorical, dmop.ColumnInfoProperty),\n",
    "    (dmop.isFeature, dmop.ColumnInfoProperty),\n",
    "    (dmop.isLabel, dmop.ColumnInfoProperty),\n",
    "    (dmop.isUnique, dmop.ColumnInfoProperty),\n",
    "    (dmop.containsNulls, dmop.ColumnValueInfoProperty),\n",
    "    (dmop.hasMeanValue, dmop.ColumnValueInfoProperty),\n",
    "    (dmop.hasStandardDeviation, dmop.ColumnValueInfoProperty),\n",
    "    (dmop.hasMaxValue, dmop.ColumnValueInfoProperty),\n",
    "    (dmop.hasMinValue, dmop.ColumnValueInfoProperty),\n",
    "\n",
    "    # Dataset\n",
    "    (dmop.delimiter, dmop.DatasetPhysicalProperty),\n",
    "    (dmop.doubleQuote, dmop.DatasetPhysicalProperty),\n",
    "    (dmop.encoding, dmop.DatasetPhysicalProperty),\n",
    "    (dmop.fileFormat, dmop.DatasetPhysicalProperty),\n",
    "    (dmop.hasHeader, dmop.DatasetPhysicalProperty),\n",
    "    (dmop.isNormalized, dmop.DatasetValueInfoProperty),\n",
    "    (dmop.lineDelimiter, dmop.DatasetPhysicalProperty),\n",
    "    (dmop.numberOfColumns, dmop.DatasetInfoProperty),\n",
    "    (dmop.numberOfRows, dmop.DatasetInfoProperty),\n",
    "    (dmop.path, dmop.DatasetPhysicalProperty),\n",
    "    (dmop.quoteChar, dmop.DatasetPhysicalProperty),\n",
    "    (dmop.skipInitialSpace, dmop.DatasetPhysicalProperty),\n",
    "]\n",
    "\n",
    "for s, o in properties:\n",
    "    ontology.add((s, RDFS.subPropertyOf, o))"
   ],
   "metadata": {
    "collapsed": false,
    "ExecuteTime": {
     "end_time": "2023-08-10T21:45:00.086235400Z",
     "start_time": "2023-08-10T21:45:00.065237100Z"
    }
   }
  },
  {
   "cell_type": "markdown",
   "source": [
    "## Store"
   ],
   "metadata": {
    "collapsed": false
   }
  },
  {
   "cell_type": "code",
   "execution_count": 28,
   "outputs": [
    {
     "data": {
      "text/plain": "<Graph identifier=Nd88e1c5c4d054ab78fe645a25c9bc324 (<class 'rdflib.graph.Graph'>)>"
     },
     "execution_count": 28,
     "metadata": {},
     "output_type": "execute_result"
    }
   ],
   "source": [
    "ontology.serialize('../ontologies/tbox.ttl', format='turtle')"
   ],
   "metadata": {
    "collapsed": false,
    "ExecuteTime": {
     "end_time": "2023-08-10T21:45:00.098235200Z",
     "start_time": "2023-08-10T21:45:00.078235900Z"
    }
   }
  }
 ],
 "metadata": {
  "kernelspec": {
   "display_name": "Python 3",
   "language": "python",
   "name": "python3"
  },
  "language_info": {
   "codemirror_mode": {
    "name": "ipython",
    "version": 2
   },
   "file_extension": ".py",
   "mimetype": "text/x-python",
   "name": "python",
   "nbconvert_exporter": "python",
   "pygments_lexer": "ipython2",
   "version": "2.7.6"
  }
 },
 "nbformat": 4,
 "nbformat_minor": 0
}
