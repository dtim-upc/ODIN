{
 "cells": [
  {
   "cell_type": "code",
   "execution_count": 1,
   "metadata": {
    "collapsed": true,
    "ExecuteTime": {
     "end_time": "2023-08-26T19:47:45.269791600Z",
     "start_time": "2023-08-26T19:47:45.196674500Z"
    }
   },
   "outputs": [],
   "source": [
    "from rdflib.collection import Collection\n",
    "\n",
    "from common import *"
   ]
  },
  {
   "cell_type": "code",
   "execution_count": 2,
   "outputs": [],
   "source": [
    "cbox = get_graph_xp()"
   ],
   "metadata": {
    "collapsed": false,
    "ExecuteTime": {
     "end_time": "2023-08-26T19:47:45.285451200Z",
     "start_time": "2023-08-26T19:47:45.269791600Z"
    }
   }
  },
  {
   "cell_type": "code",
   "execution_count": 3,
   "outputs": [
    {
     "data": {
      "text/plain": "<Graph identifier=N0d8c55a2617847f587432e2d080c589a (<class 'rdflib.graph.Graph'>)>"
     },
     "execution_count": 3,
     "metadata": {},
     "output_type": "execute_result"
    }
   ],
   "source": [
    "cbox.add((URIRef(str(cb)), RDF.type, OWL.Ontology))\n",
    "cbox.add((URIRef(str(cb)), RDFS.label, Literal(\"ExtremeXP Ontology CBox\")))"
   ],
   "metadata": {
    "collapsed": false,
    "ExecuteTime": {
     "end_time": "2023-08-26T19:47:45.321159700Z",
     "start_time": "2023-08-26T19:47:45.289040800Z"
    }
   }
  },
  {
   "cell_type": "markdown",
   "source": [
    "## Problems"
   ],
   "metadata": {
    "collapsed": false
   }
  },
  {
   "cell_type": "code",
   "execution_count": 4,
   "outputs": [],
   "source": [
    "problems = [\n",
    "    cb.Description,\n",
    "    cb.Explanation,\n",
    "    cb.Prediction,\n",
    "    cb.DataCleaning,\n",
    "    cb.DataManagement,\n",
    "\n",
    "    cb.Classification,\n",
    "    cb.Clustering,\n",
    "    cb.AnomalyDetection,\n",
    "\n",
    "    cb.MissingValueManagement,\n",
    "    cb.DuplicationRemoval,\n",
    "    cb.Normalization,\n",
    "]\n",
    "subproblems = [\n",
    "    (cb.Description, [cb.Classification, cb.Clustering, cb.AnomalyDetection],),\n",
    "    (cb.DataCleaning, [cb.MissingValueManagement, cb.DuplicationRemoval, cb.Normalization],),\n",
    "]\n",
    "\n",
    "for p in problems:\n",
    "    cbox.add((p, RDF.type, tb.Problem))\n",
    "\n",
    "for p, sps in subproblems:\n",
    "    for sp in sps:\n",
    "        cbox.add((sp, tb.subProblemOf, p))"
   ],
   "metadata": {
    "collapsed": false,
    "ExecuteTime": {
     "end_time": "2023-08-26T19:47:45.322160Z",
     "start_time": "2023-08-26T19:47:45.305160300Z"
    }
   }
  },
  {
   "cell_type": "markdown",
   "source": [
    "## Algorithms"
   ],
   "metadata": {
    "collapsed": false
   }
  },
  {
   "cell_type": "code",
   "execution_count": 5,
   "outputs": [],
   "source": [
    "algorithms = [\n",
    "    # Clustering\n",
    "    (cb.KMeans, cb.Clustering),\n",
    "    (cb.DBSCAN, cb.Clustering),\n",
    "    (cb.HierarchicalClustering, cb.Clustering),\n",
    "\n",
    "    # Classification\n",
    "    (cb.DecisionTree, cb.Classification),\n",
    "    (cb.RandomForest, cb.Classification),\n",
    "    (cb.NaiveBayes, cb.Classification),\n",
    "    (cb.SVM, cb.Classification),\n",
    "    (cb.KNN, cb.Classification),\n",
    "\n",
    "    # Anomaly Detection\n",
    "    (cb.OneClassSVM, cb.AnomalyDetection),\n",
    "    (cb.IsolationForest, cb.AnomalyDetection),\n",
    "    (cb.LocalOutlierFactor, cb.AnomalyDetection),\n",
    "\n",
    "    # Missing Value Management\n",
    "    (cb.MeanImputation, cb.MissingValueManagement),\n",
    "    (cb.MedianImputation, cb.MissingValueManagement),\n",
    "    (cb.ModeImputation, cb.MissingValueManagement),\n",
    "    (cb.KNNImputation, cb.MissingValueManagement),\n",
    "    (cb.MissingValueRemoval, cb.MissingValueManagement),\n",
    "\n",
    "    # Duplication Removal\n",
    "    (cb.DuplicateRemoval, cb.DuplicationRemoval),\n",
    "\n",
    "    # Normalization\n",
    "    (cb.MinMaxScaling, cb.Normalization),\n",
    "    (cb.ZScoreScaling, cb.Normalization),\n",
    "    (cb.RobustNormalization, cb.Normalization),\n",
    "\n",
    "    # Data Management\n",
    "    (cb.TrainTestSplit, cb.DataManagement),\n",
    "    (cb.LabelExtraction, cb.DataManagement),\n",
    "]\n",
    "\n",
    "for algorithm, problem in algorithms:\n",
    "    cbox.add((algorithm, RDF.type, tb.Algorithm))\n",
    "    cbox.add((algorithm, tb.solves, problem))"
   ],
   "metadata": {
    "collapsed": false,
    "ExecuteTime": {
     "end_time": "2023-08-26T19:47:45.333171900Z",
     "start_time": "2023-08-26T19:47:45.318159600Z"
    }
   }
  },
  {
   "cell_type": "markdown",
   "source": [
    "## Implementation"
   ],
   "metadata": {
    "collapsed": false
   }
  },
  {
   "cell_type": "code",
   "execution_count": 6,
   "outputs": [
    {
     "name": "stdout",
     "output_type": "stream",
     "text": [
      "Adding implementation Partitioning\n",
      "Adding implementation Decision Tree Learner\n",
      "Adding implementation Decision Tree Predictor\n",
      "Adding implementation Normalizer (PMML)\n",
      "Adding implementation Normalizer Apply (PMML)\n",
      "Adding implementation SVM Learner\n",
      "Adding implementation SVM Predictor\n",
      "Adding implementation Missing Value\n",
      "Adding implementation Missing Value (Applier)\n",
      "Adding implementation CSV Reader\n",
      "Adding implementation CSV Writer\n",
      "Adding component Random Relative Train-Test Split\n",
      "Adding component Random Absolute Train-Test Split\n",
      "Adding component Top K Relative Train-Test Split\n",
      "Adding component Top K Absolute Train-Test Split\n",
      "Adding component Decision Tree Learner\n",
      "Adding component Decision Tree Predictor\n",
      "Adding component Min-Max Scaling\n",
      "Adding component Z-Score Scaling\n",
      "Adding component Decimal Scaling\n",
      "Adding component Normalizer Applier\n",
      "Adding component Polynomial SVM Learner\n",
      "Adding component HyperTangent SVM Learner\n",
      "Adding component RBF SVM Learner\n",
      "Adding component SVM Predictor\n",
      "Adding component Drop Rows with Missing Values\n",
      "Adding component Mean Imputation\n",
      "Adding component Missing Value Management Applier\n",
      "Adding component CSV Local reader\n",
      "Adding component CSV Local writer\n"
     ]
    }
   ],
   "source": [
    "from implementations.knime import implementations, components\n",
    "\n",
    "for implementation in implementations:\n",
    "    print(f'Adding implementation {implementation.name}')\n",
    "    implementation.add_to_graph(cbox)\n",
    "\n",
    "for implementation in implementations:\n",
    "    implementation.add_counterpart_relationship(cbox)\n",
    "\n",
    "for component in components:\n",
    "    print(f'Adding component {component.name}')\n",
    "    component.add_to_graph(cbox)\n",
    "\n",
    "for component in components:\n",
    "    component.add_counterpart_relationship(cbox)"
   ],
   "metadata": {
    "collapsed": false,
    "ExecuteTime": {
     "end_time": "2023-08-26T19:47:45.644638Z",
     "start_time": "2023-08-26T19:47:45.334172900Z"
    }
   }
  },
  {
   "cell_type": "markdown",
   "source": [
    "## Models"
   ],
   "metadata": {
    "collapsed": false
   }
  },
  {
   "cell_type": "code",
   "execution_count": 7,
   "outputs": [],
   "source": [
    "models = [\n",
    "    'SVMModel',\n",
    "    'DecisionTreeModel',\n",
    "    'NormalizerModel',\n",
    "    'MissingValueModel',\n",
    "]\n",
    "\n",
    "cbox.add((cb.Model, RDFS.subClassOf, tb.Data))\n",
    "for model in models:\n",
    "    cbox.add((cb.term(model), RDFS.subClassOf, cb.Model))\n",
    "    \n",
    "    cbox.add((cb.term(model + 'Shape'), RDF.type, SH.NodeShape))\n",
    "    cbox.add((cb.term(model + 'Shape'), RDF.type, tb.DataTag))\n",
    "    cbox.add((cb.term(model + 'Shape'), SH.targetClass, cb.term(model)))"
   ],
   "metadata": {
    "collapsed": false,
    "ExecuteTime": {
     "end_time": "2023-08-26T19:47:45.676526200Z",
     "start_time": "2023-08-26T19:47:45.646637800Z"
    }
   }
  },
  {
   "cell_type": "markdown",
   "source": [
    "# Shapes"
   ],
   "metadata": {
    "collapsed": false
   }
  },
  {
   "cell_type": "code",
   "execution_count": 8,
   "outputs": [
    {
     "data": {
      "text/plain": "<Graph identifier=N0d8c55a2617847f587432e2d080c589a (<class 'rdflib.graph.Graph'>)>"
     },
     "execution_count": 8,
     "metadata": {},
     "output_type": "execute_result"
    }
   ],
   "source": [
    "# NonNullNumericFeatureColumnShape\n",
    "column_shape = cb.NonNullNumericFeatureColumnShape\n",
    "# column_shape = BNode()\n",
    "cbox.add((column_shape, RDF.type, SH.NodeShape))\n",
    "\n",
    "numeric_column_property = cb.NumericColumnProperty\n",
    "# numeric_column_property = BNode()\n",
    "cbox.add((numeric_column_property, SH.path, dmop.hasDataPrimitiveTypeColumn))\n",
    "cbox.add((numeric_column_property, SH['in'],\n",
    "          Collection(cbox, BNode(), seq=[dmop.Integer, dmop.Float]).uri))\n",
    "\n",
    "non_null_column_property = cb.NonNullColumnProperty\n",
    "# non_null_column_property = BNode()\n",
    "cbox.add((non_null_column_property, SH.path, dmop.containsNulls))\n",
    "cbox.add((non_null_column_property, SH.datatype, XSD.boolean))\n",
    "cbox.add((non_null_column_property, SH.hasValue, Literal(False)))\n",
    "\n",
    "feature_column_property = cb.FeatureColumnProperty\n",
    "# feature_column_property = BNode()\n",
    "cbox.add((feature_column_property, SH.path, dmop.isFeature))\n",
    "cbox.add((feature_column_property, SH.datatype, XSD.boolean))\n",
    "cbox.add((feature_column_property, SH.hasValue, Literal(True)))\n",
    "\n",
    "feature_column = cb.FeatureColumnShape\n",
    "# feature_column = BNode()\n",
    "cbox.add((feature_column, RDF.type, SH.NodeShape))\n",
    "cbox.add((feature_column, SH.targetClass, dmop.Column))\n",
    "cbox.add((feature_column, SH.property, feature_column_property))\n",
    "\n",
    "cbox.add((column_shape, SH.property, numeric_column_property))\n",
    "cbox.add((column_shape, SH.property, non_null_column_property))\n",
    "cbox.add((column_shape, SH.targetClass, feature_column))\n",
    "\n",
    "# NonNullNumericFeatureTabularDatasetShape\n",
    "non_null_numeric_tabular_dataset_shape = cb.NonNullNumericFeatureTabularDatasetShape\n",
    "cbox.add((non_null_numeric_tabular_dataset_shape, RDF.type, SH.NodeShape))\n",
    "cbox.add((non_null_numeric_tabular_dataset_shape, SH.targetClass, dmop.TabularDataset))\n",
    "\n",
    "bnode = BNode()\n",
    "cbox.add((bnode, SH.path, dmop.hasColumn))\n",
    "cbox.add((bnode, SH.node, column_shape))\n",
    "\n",
    "cbox.add((non_null_numeric_tabular_dataset_shape, SH.property, bnode))\n",
    "\n",
    "# LabeledTabularDatasetShape\n",
    "\n",
    "label_column_property = cb.LabelColumnProperty\n",
    "cbox.add((label_column_property, SH.path, dmop.isLabel))\n",
    "cbox.add((label_column_property, SH.datatype, XSD.boolean))\n",
    "cbox.add((label_column_property, SH.hasValue, Literal(True)))\n",
    "\n",
    "label_column_shape = cb.LabelColumnShape\n",
    "cbox.add((label_column_shape, RDF.type, SH.NodeShape))\n",
    "cbox.add((label_column_shape, SH.targetClass, dmop.Column))\n",
    "cbox.add((label_column_shape, SH.property, label_column_property))\n",
    "\n",
    "labeled_dataset_shape = cb.LabeledTabularDatasetShape\n",
    "cbox.add((labeled_dataset_shape, RDF.type, SH.NodeShape))\n",
    "cbox.add((labeled_dataset_shape, SH.targetClass, dmop.TabularDataset))\n",
    "\n",
    "bnode_qualified = BNode()\n",
    "cbox.add((bnode_qualified, SH.path, dmop.isLabel))\n",
    "cbox.add((bnode_qualified, SH.hasValue, Literal(True)))\n",
    "\n",
    "bnode_column = BNode()\n",
    "cbox.add((bnode_column, SH.path, dmop.hasColumn))\n",
    "cbox.add((bnode_column, SH.qualifiedValueShape, bnode_qualified))\n",
    "cbox.add((bnode_column, SH.qualifiedMinCount, Literal(1)))\n",
    "cbox.add((bnode_column, SH.minCount, Literal(1)))\n",
    "\n",
    "cbox.add((labeled_dataset_shape, SH.property, bnode_column))"
   ],
   "metadata": {
    "collapsed": false,
    "ExecuteTime": {
     "end_time": "2023-08-26T19:47:45.697929700Z",
     "start_time": "2023-08-26T19:47:45.673004200Z"
    }
   }
  },
  {
   "cell_type": "code",
   "execution_count": 9,
   "outputs": [
    {
     "data": {
      "text/plain": "<Graph identifier=N0d8c55a2617847f587432e2d080c589a (<class 'rdflib.graph.Graph'>)>"
     },
     "execution_count": 9,
     "metadata": {},
     "output_type": "execute_result"
    }
   ],
   "source": [
    "non_null_column_shape = cb.NonNullColumnShape\n",
    "cbox.add((non_null_column_shape, RDF.type, SH.NodeShape))\n",
    "cbox.add((non_null_column_shape, SH.targetClass, dmop.Column))\n",
    "cbox.add((non_null_column_shape, SH.property, non_null_column_property))\n",
    "\n",
    "bnode = BNode()\n",
    "cbox.add((bnode, SH.path, dmop.hasColumn))\n",
    "cbox.add((bnode, SH.node, non_null_column_shape))\n",
    "\n",
    "non_null_tabular_dataset_shape = cb.NonNullTabularDatasetShape\n",
    "cbox.add((non_null_tabular_dataset_shape, RDF.type, SH.NodeShape))\n",
    "cbox.add((non_null_tabular_dataset_shape, SH.targetClass, dmop.TabularDataset))\n",
    "cbox.add((non_null_tabular_dataset_shape, SH.property, bnode))\n",
    "\n",
    "cbox.add((cb.TabularDataset, RDF.type, SH.NodeShape))\n",
    "cbox.add((cb.TabularDataset, RDF.type, tb.DataTag))\n",
    "cbox.add((cb.TabularDataset, SH.targetClass, dmop.TabularDataset))\n",
    "\n",
    "numeric_column_shape = cb.NumericColumnShape\n",
    "cbox.add((numeric_column_shape, RDF.type, SH.NodeShape))\n",
    "cbox.add((numeric_column_shape, SH.targetClass, dmop.Column))\n",
    "cbox.add((numeric_column_shape, SH.property, numeric_column_property))\n",
    "\n",
    "bnode = BNode()\n",
    "cbox.add((bnode, SH.path, dmop.hasColumn))\n",
    "cbox.add((bnode, SH.node, numeric_column_shape))\n",
    "\n",
    "numeric_tabular_dataset_shape = cb.NumericTabularDatasetShape\n",
    "cbox.add((numeric_tabular_dataset_shape, RDF.type, SH.NodeShape))\n",
    "cbox.add((numeric_tabular_dataset_shape, SH.targetClass, dmop.TabularDataset))\n",
    "cbox.add((numeric_tabular_dataset_shape, SH.property, bnode))"
   ],
   "metadata": {
    "collapsed": false,
    "ExecuteTime": {
     "end_time": "2023-08-26T19:47:45.741375Z",
     "start_time": "2023-08-26T19:47:45.699702500Z"
    }
   }
  },
  {
   "cell_type": "code",
   "execution_count": 10,
   "outputs": [
    {
     "data": {
      "text/plain": "<Graph identifier=N0d8c55a2617847f587432e2d080c589a (<class 'rdflib.graph.Graph'>)>"
     },
     "execution_count": 10,
     "metadata": {},
     "output_type": "execute_result"
    }
   ],
   "source": [
    "cbox.add((cb.isNormalizedConstraint, RDF.type, SH.PropertyConstraintComponent))\n",
    "cbox.add((cb.isNormalizedConstraint, SH.path, dmop.isNormalized))\n",
    "cbox.add((cb.isNormalizedConstraint, SH.datatype, XSD.boolean))\n",
    "cbox.add((cb.isNormalizedConstraint, SH.hasValue, Literal(True)))\n",
    "\n",
    "cbox.add((cb.NormalizedTabularDatasetShape, RDF.type, SH.NodeShape))\n",
    "cbox.add((cb.NormalizedTabularDatasetShape, RDF.type, tb.DataTag))\n",
    "cbox.add((cb.NormalizedTabularDatasetShape, SH.property, cb.isNormalizedConstraint))\n",
    "cbox.add((cb.NormalizedTabularDatasetShape, SH.targetClass, dmop.TabularDataset))"
   ],
   "metadata": {
    "collapsed": false,
    "ExecuteTime": {
     "end_time": "2023-08-26T19:47:45.741867900Z",
     "start_time": "2023-08-26T19:47:45.710229900Z"
    }
   }
  },
  {
   "cell_type": "markdown",
   "source": [
    "## Store"
   ],
   "metadata": {
    "collapsed": false
   }
  },
  {
   "cell_type": "code",
   "execution_count": 11,
   "outputs": [
    {
     "data": {
      "text/plain": "<Graph identifier=N0d8c55a2617847f587432e2d080c589a (<class 'rdflib.graph.Graph'>)>"
     },
     "execution_count": 11,
     "metadata": {},
     "output_type": "execute_result"
    }
   ],
   "source": [
    "cbox.serialize('../ontologies/cbox.ttl', format='turtle')"
   ],
   "metadata": {
    "collapsed": false,
    "ExecuteTime": {
     "end_time": "2023-08-26T19:47:45.816144200Z",
     "start_time": "2023-08-26T19:47:45.723666400Z"
    }
   }
  }
 ],
 "metadata": {
  "kernelspec": {
   "display_name": "Python 3",
   "language": "python",
   "name": "python3"
  },
  "language_info": {
   "codemirror_mode": {
    "name": "ipython",
    "version": 2
   },
   "file_extension": ".py",
   "mimetype": "text/x-python",
   "name": "python",
   "nbconvert_exporter": "python",
   "pygments_lexer": "ipython2",
   "version": "2.7.6"
  }
 },
 "nbformat": 4,
 "nbformat_minor": 0
}
